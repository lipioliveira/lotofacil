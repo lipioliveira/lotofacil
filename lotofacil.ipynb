{
 "cells": [
  {
   "cell_type": "code",
   "execution_count": 92,
   "metadata": {},
   "outputs": [],
   "source": [
    "import pandas as pd"
   ]
  },
  {
   "cell_type": "code",
   "execution_count": 93,
   "metadata": {},
   "outputs": [
    {
     "name": "stdout",
     "output_type": "stream",
     "text": [
      "15\n"
     ]
    }
   ],
   "source": [
    "sorteados = ['040507080911121415161921222425']\n",
    "aposta = pd.Series(['04','06','08','09','10','11','12','13','14','17','19','20','22','23','25'])\n",
    "print(len(aposta))"
   ]
  },
  {
   "cell_type": "code",
   "execution_count": 94,
   "metadata": {},
   "outputs": [],
   "source": [
    "n1 = sorteados[0][0:2]\n",
    "n2 = sorteados[0][2:4]\n",
    "n3 = sorteados[0][4:6]\n",
    "n4 = sorteados[0][6:8]\n",
    "n5 = sorteados[0][8:10]\n",
    "n6 = sorteados[0][10:12]\n",
    "n7 = sorteados[0][12:14]\n",
    "n8 = sorteados[0][14:16]\n",
    "n9 = sorteados[0][16:18]\n",
    "n10 = sorteados[0][18:20]\n",
    "n11 = sorteados[0][20:22]\n",
    "n12 = sorteados[0][22:24]\n",
    "n13 = sorteados[0][24:26]\n",
    "n14 = sorteados[0][26:28]\n",
    "n15 = sorteados[0][28:30]\n",
    "\n",
    "sorteioTratado  = [n1, n2, n3, n4, n5, n6, n7, n8, n9, n10, n11, n12, n13, n14, n15]\n"
   ]
  },
  {
   "cell_type": "code",
   "execution_count": 95,
   "metadata": {},
   "outputs": [
    {
     "name": "stdout",
     "output_type": "stream",
     "text": [
      "Voce acertou 9 números\n"
     ]
    }
   ],
   "source": [
    "confere = aposta.isin(sorteioTratado).sum()\n",
    "print(f'Voce acertou {confere} números')"
   ]
  }
 ],
 "metadata": {
  "interpreter": {
   "hash": "b05482facf50d360cdfcdf0ff1b9faca1e7abc05cf728278b48dee17b934a022"
  },
  "kernelspec": {
   "display_name": "Python 3.9.12 64-bit (windows store)",
   "language": "python",
   "name": "python3"
  },
  "language_info": {
   "codemirror_mode": {
    "name": "ipython",
    "version": 3
   },
   "file_extension": ".py",
   "mimetype": "text/x-python",
   "name": "python",
   "nbconvert_exporter": "python",
   "pygments_lexer": "ipython3",
   "version": "3.9.12"
  },
  "orig_nbformat": 4
 },
 "nbformat": 4,
 "nbformat_minor": 2
}
